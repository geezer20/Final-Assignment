{
 "cells": [
  {
   "cell_type": "markdown",
   "id": "41a8c36e-8e12-466a-add2-ec6fd6fd8ce4",
   "metadata": {},
   "source": [
    "# Data Science Tools and Ecosystem"
   ]
  },
  {
   "cell_type": "markdown",
   "id": "da35a7a1-41a1-468c-9764-ba15e5c99108",
   "metadata": {},
   "source": [
    "In this notebook, Data Science Tools and Ecosystem are summarized."
   ]
  },
  {
   "cell_type": "markdown",
   "id": "8f4503dc-0607-4ac3-b5da-9c20cbb873da",
   "metadata": {},
   "source": [
    "**Objectives:**\n",
    "- How to create a Jupyter Notebook\n",
    "- How to create a markdown cell and code cell\n",
    "- Commonly used libraries used by Data Scientists\n",
    "- Popular languages for Data Scientists"
   ]
  },
  {
   "cell_type": "markdown",
   "id": "7f01a3bb-2b6e-45f7-ad09-1f04b3942b00",
   "metadata": {},
   "source": [
    "Some of the popular languages that Data Scientists use are:\n",
    "1. Python\n",
    "2. Scala\n",
    "3. Java\n",
    "4. SQL"
   ]
  },
  {
   "cell_type": "markdown",
   "id": "2277d1f6-1645-47b6-9040-b8fde8374071",
   "metadata": {
    "tags": []
   },
   "source": [
    "Some of the commonly used libraries used by Data Scientists include:\n",
    "1. TensorFlow\n",
    "2. Apache Spark\n",
    "3. Scikit-learn "
   ]
  },
  {
   "cell_type": "markdown",
   "id": "e60d616c-71df-4844-a854-11456ce126e3",
   "metadata": {},
   "source": [
    "|Data Science Tools|\n",
    "|------------------|\n",
    "|Anaconda|\n",
    "|RStudio|\n",
    "|Pandas|"
   ]
  },
  {
   "cell_type": "markdown",
   "id": "647fc6fb-d2fc-4cdb-a232-37f040f0171a",
   "metadata": {},
   "source": [
    "### Below are a few examples of evaluating arithmetic expressions in Python"
   ]
  },
  {
   "cell_type": "code",
   "execution_count": 60,
   "id": "7bf9759e-c1e9-4955-ae5f-5c158f2e9916",
   "metadata": {},
   "outputs": [
    {
     "name": "stdout",
     "output_type": "stream",
     "text": [
      "17\n"
     ]
    }
   ],
   "source": [
    "#This a simple arithmetic expression to mutiply then add integers\n",
    "\n",
    "Three = 3\n",
    "Four = 4\n",
    "Five = 5\n",
    "\n",
    "Result = (3*4)+5\n",
    "print(Result)"
   ]
  },
  {
   "cell_type": "code",
   "execution_count": 61,
   "id": "dbc2df35-c5eb-4e3b-a3fb-f3e136790ce0",
   "metadata": {},
   "outputs": [
    {
     "name": "stdout",
     "output_type": "stream",
     "text": [
      "3\n"
     ]
    }
   ],
   "source": [
    "#This will convert 200 minutes to hours by diving by 60\n",
    "\n",
    "minutes = 200\n",
    "hour = 60\n",
    "\n",
    "Result = minutes // hour\n",
    "print(Result)"
   ]
  },
  {
   "cell_type": "markdown",
   "id": "2decfe43-98d3-4bc6-bc00-327039cc20b6",
   "metadata": {},
   "source": [
    "## Author\n",
    "Linda Mayambela"
   ]
  },
  {
   "cell_type": "code",
   "execution_count": null,
   "id": "09314a9b-2163-4df4-8143-7cbea0bdfaf2",
   "metadata": {},
   "outputs": [],
   "source": []
  }
 ],
 "metadata": {
  "kernelspec": {
   "display_name": "anaconda-panel-2023.05-py310",
   "language": "python",
   "name": "conda-env-anaconda-panel-2023.05-py310-py"
  },
  "language_info": {
   "codemirror_mode": {
    "name": "ipython",
    "version": 3
   },
   "file_extension": ".py",
   "mimetype": "text/x-python",
   "name": "python",
   "nbconvert_exporter": "python",
   "pygments_lexer": "ipython3",
   "version": "3.11.5"
  }
 },
 "nbformat": 4,
 "nbformat_minor": 5
}
